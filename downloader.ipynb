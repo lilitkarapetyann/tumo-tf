{
 "cells": [
  {
   "cell_type": "code",
   "execution_count": 1,
   "metadata": {
    "collapsed": false,
    "deletable": true,
    "editable": true
   },
   "outputs": [
    {
     "name": "stdout",
     "output_type": "stream",
     "text": [
      "--2017-03-25 15:48:23--  https://raw.githubusercontent.com/tumregels/tumo-tf/master/git-github.ipynb\n",
      "Resolving raw.githubusercontent.com (raw.githubusercontent.com)... 151.101.12.133\n",
      "Connecting to raw.githubusercontent.com (raw.githubusercontent.com)|151.101.12.133|:443... connected.\n",
      "HTTP request sent, awaiting response... 200 OK\n",
      "Length: 13304 (13K) [text/plain]\n",
      "Saving to: ‘git-github.ipynb’\n",
      "\n",
      "git-github.ipynb    100%[===================>]  12.99K  --.-KB/s    in 0.06s   \n",
      "\n",
      "2017-03-25 15:48:23 (217 KB/s) - ‘git-github.ipynb’ saved [13304/13304]\n",
      "\n"
     ]
    }
   ],
   "source": [
    "!wget https://raw.githubusercontent.com/tumregels/tumo-tf/master/git-github.ipynb"
   ]
  },
  {
   "cell_type": "code",
   "execution_count": 2,
   "metadata": {
    "collapsed": false,
    "deletable": true,
    "editable": true
   },
   "outputs": [
    {
     "name": "stdout",
     "output_type": "stream",
     "text": [
      "--2017-03-25 16:22:04--  https://raw.githubusercontent.com/tumregels/tumo-tf/master/numpy.ipynb\n",
      "Resolving raw.githubusercontent.com (raw.githubusercontent.com)... 151.101.12.133\n",
      "Connecting to raw.githubusercontent.com (raw.githubusercontent.com)|151.101.12.133|:443... connected.\n",
      "HTTP request sent, awaiting response... 200 OK\n",
      "Length: 23225 (23K) [text/plain]\n",
      "Saving to: ‘numpy.ipynb’\n",
      "\n",
      "numpy.ipynb         100%[===================>]  22.68K  --.-KB/s    in 0.06s   \n",
      "\n",
      "2017-03-25 16:22:04 (376 KB/s) - ‘numpy.ipynb’ saved [23225/23225]\n",
      "\n"
     ]
    }
   ],
   "source": [
    "!wget https://raw.githubusercontent.com/tumregels/tumo-tf/master/numpy.ipynb"
   ]
  },
  {
   "cell_type": "code",
   "execution_count": 4,
   "metadata": {
    "collapsed": false,
    "deletable": true,
    "editable": true
   },
   "outputs": [
    {
     "name": "stdout",
     "output_type": "stream",
     "text": [
      "--2017-03-25 17:03:35--  https://github.com/tumregels/tumo-tf/raw/master/numpy-tutorial-solved.ipynb\n",
      "Resolving github.com (github.com)... 192.30.253.113, 192.30.253.112\n",
      "Connecting to github.com (github.com)|192.30.253.113|:443... connected.\n",
      "HTTP request sent, awaiting response... 302 Found\n",
      "Location: https://raw.githubusercontent.com/tumregels/tumo-tf/master/numpy-tutorial-solved.ipynb [following]\n",
      "--2017-03-25 17:03:35--  https://raw.githubusercontent.com/tumregels/tumo-tf/master/numpy-tutorial-solved.ipynb\n",
      "Resolving raw.githubusercontent.com (raw.githubusercontent.com)... 151.101.12.133\n",
      "Connecting to raw.githubusercontent.com (raw.githubusercontent.com)|151.101.12.133|:443... connected.\n",
      "HTTP request sent, awaiting response... 200 OK\n",
      "Length: 1582753 (1.5M) [text/plain]\n",
      "Saving to: ‘numpy-tutorial-solved.ipynb’\n",
      "\n",
      "numpy-tutorial-solv 100%[===================>]   1.51M  3.22MB/s    in 0.5s    \n",
      "\n",
      "2017-03-25 17:03:36 (3.22 MB/s) - ‘numpy-tutorial-solved.ipynb’ saved [1582753/1582753]\n",
      "\n"
     ]
    }
   ],
   "source": [
    "!wget https://github.com/tumregels/tumo-tf/raw/master/numpy-tutorial-solved.ipynb"
   ]
  },
  {
   "cell_type": "code",
   "execution_count": 3,
   "metadata": {
    "collapsed": false,
    "deletable": true,
    "editable": true
   },
   "outputs": [
    {
     "name": "stdout",
     "output_type": "stream",
     "text": [
      "--2017-03-25 16:54:00--  https://raw.githubusercontent.com/tumregels/pytraining/mic1/lesson4/matplotlib_library.ipynb\n",
      "Resolving raw.githubusercontent.com (raw.githubusercontent.com)... 151.101.12.133\n",
      "Connecting to raw.githubusercontent.com (raw.githubusercontent.com)|151.101.12.133|:443... connected.\n",
      "HTTP request sent, awaiting response... 200 OK\n",
      "Length: 91375 (89K) [text/plain]\n",
      "Saving to: ‘matplotlib_library.ipynb’\n",
      "\n",
      "matplotlib_library. 100%[===================>]  89.23K   569KB/s    in 0.2s    \n",
      "\n",
      "2017-03-25 16:54:01 (569 KB/s) - ‘matplotlib_library.ipynb’ saved [91375/91375]\n",
      "\n"
     ]
    }
   ],
   "source": [
    "!wget https://raw.githubusercontent.com/tumregels/pytraining/mic1/lesson4/matplotlib_library.ipynb"
   ]
  },
  {
   "cell_type": "code",
   "execution_count": 1,
   "metadata": {
    "collapsed": false,
    "deletable": true,
    "editable": true
   },
   "outputs": [
    {
     "name": "stdout",
     "output_type": "stream",
     "text": [
      "--2017-03-25 09:45:49--  https://github.com/jrjohansson/scientific-python-lectures/raw/master/Lecture-4-Matplotlib.ipynb\n",
      "Resolving github.com (github.com)... 192.30.253.112, 192.30.253.113\n",
      "Connecting to github.com (github.com)|192.30.253.112|:443... connected.\n",
      "HTTP request sent, awaiting response... 302 Found\n",
      "Location: https://raw.githubusercontent.com/jrjohansson/scientific-python-lectures/master/Lecture-4-Matplotlib.ipynb [following]\n",
      "--2017-03-25 09:45:50--  https://raw.githubusercontent.com/jrjohansson/scientific-python-lectures/master/Lecture-4-Matplotlib.ipynb\n",
      "Resolving raw.githubusercontent.com (raw.githubusercontent.com)... 151.101.12.133\n",
      "Connecting to raw.githubusercontent.com (raw.githubusercontent.com)|151.101.12.133|:443... connected.\n",
      "HTTP request sent, awaiting response... 200 OK\n",
      "Length: 1755099 (1.7M) [text/plain]\n",
      "Saving to: ‘Lecture-4-Matplotlib.ipynb.1’\n",
      "\n",
      "Lecture-4-Matplotli 100%[===================>]   1.67M  2.15MB/s    in 0.8s    \n",
      "\n",
      "2017-03-25 09:45:52 (2.15 MB/s) - ‘Lecture-4-Matplotlib.ipynb.1’ saved [1755099/1755099]\n",
      "\n"
     ]
    }
   ],
   "source": [
    "!wget https://github.com/jrjohansson/scientific-python-lectures/raw/master/Lecture-4-Matplotlib.ipynb"
   ]
  },
  {
   "cell_type": "code",
   "execution_count": null,
   "metadata": {
    "collapsed": false,
    "deletable": true,
    "editable": true
   },
   "outputs": [],
   "source": [
    "!wget https://raw.githubusercontent.com/tumregels/pytraining/mic1/lesson4/magic_commands.ipynb"
   ]
  },
  {
   "cell_type": "code",
   "execution_count": 5,
   "metadata": {
    "collapsed": false,
    "deletable": true,
    "editable": true
   },
   "outputs": [
    {
     "name": "stdout",
     "output_type": "stream",
     "text": [
      "--2017-03-25 17:22:15--  https://raw.githubusercontent.com/tumregels/pytraining/mic1/lesson8/markdown.ipynb\n",
      "Resolving raw.githubusercontent.com (raw.githubusercontent.com)... 151.101.12.133\n",
      "Connecting to raw.githubusercontent.com (raw.githubusercontent.com)|151.101.12.133|:443... connected.\n",
      "HTTP request sent, awaiting response... 200 OK\n",
      "Length: 7149 (7.0K) [text/plain]\n",
      "Saving to: ‘markdown.ipynb’\n",
      "\n",
      "markdown.ipynb      100%[===================>]   6.98K  --.-KB/s    in 0s      \n",
      "\n",
      "2017-03-25 17:22:15 (57.2 MB/s) - ‘markdown.ipynb’ saved [7149/7149]\n",
      "\n"
     ]
    }
   ],
   "source": [
    "!wget https://raw.githubusercontent.com/tumregels/pytraining/mic1/lesson8/markdown.ipynb"
   ]
  },
  {
   "cell_type": "code",
   "execution_count": null,
   "metadata": {
    "collapsed": true,
    "deletable": true,
    "editable": true
   },
   "outputs": [],
   "source": [
    "!wget https://raw.githubusercontent.com/tumregels/pytraining/mic1/lesson8/lamdba_function.ipynb\n",
    "#!unzip lesson_git.zip"
   ]
  },
  {
   "cell_type": "code",
   "execution_count": null,
   "metadata": {
    "collapsed": false,
    "deletable": true,
    "editable": true
   },
   "outputs": [],
   "source": [
    "!wget https://raw.githubusercontent.com/gertingold/euroscipy16-numpy-tutorial/master/numpy-tutorial-solved.ipynb"
   ]
  },
  {
   "cell_type": "code",
   "execution_count": 1,
   "metadata": {
    "collapsed": false,
    "deletable": true,
    "editable": true
   },
   "outputs": [
    {
     "name": "stdout",
     "output_type": "stream",
     "text": [
      "Cloning into 'TensorFlow-Examples'...\n",
      "remote: Counting objects: 840, done.\u001b[K\n",
      "remote: Compressing objects: 100% (15/15), done.\u001b[K\n",
      "remote: Total 840 (delta 2), reused 0 (delta 0), pack-reused 825\u001b[K\n",
      "Receiving objects: 100% (840/840), 3.52 MiB | 1.27 MiB/s, done.\n",
      "Resolving deltas: 100% (508/508), done.\n",
      "Checking connectivity... done.\n"
     ]
    }
   ],
   "source": [
    "!git clone https://github.com/aymericdamien/TensorFlow-Examples.git"
   ]
  },
  {
   "cell_type": "code",
   "execution_count": null,
   "metadata": {
    "collapsed": true
   },
   "outputs": [],
   "source": []
  }
 ],
 "metadata": {
  "kernelspec": {
   "display_name": "Python 3",
   "language": "python",
   "name": "python3"
  },
  "language_info": {
   "codemirror_mode": {
    "name": "ipython",
    "version": 3
   },
   "file_extension": ".py",
   "mimetype": "text/x-python",
   "name": "python",
   "nbconvert_exporter": "python",
   "pygments_lexer": "ipython3",
   "version": "3.6.0"
  }
 },
 "nbformat": 4,
 "nbformat_minor": 2
}
